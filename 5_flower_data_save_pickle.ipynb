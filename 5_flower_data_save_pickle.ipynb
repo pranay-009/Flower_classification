{
 "cells": [
  {
   "cell_type": "code",
   "execution_count": 21,
   "metadata": {},
   "outputs": [],
   "source": [
    "import tensorflow as tf\n",
    "import numpy as num\n",
    "import os\n",
    "import glob\n",
    "import matplotlib.pyplot as plt\n",
    "import cv2"
   ]
  },
  {
   "cell_type": "code",
   "execution_count": 22,
   "metadata": {},
   "outputs": [],
   "source": [
    "training_path=r\"C:\\Users\\user\\Desktop\\dataset\"\n",
    "Dev_path=r\"C:\\Users\\user\\Desktop\\Validation set\"\n",
    "test_path=r\"C:\\Users\\user\\Desktop\\Test_set\""
   ]
  },
  {
   "cell_type": "code",
   "execution_count": 23,
   "metadata": {},
   "outputs": [
    {
     "name": "stdout",
     "output_type": "stream",
     "text": [
      "['daisy', 'Lotus', 'Orchid', 'Sunflower', 'Viola']\n"
     ]
    }
   ],
   "source": [
    "labels=[]\n",
    "for i in os.listdir(training_path):\n",
    "    labels.append(i)\n",
    "print(labels)    "
   ]
  },
  {
   "cell_type": "code",
   "execution_count": 24,
   "metadata": {},
   "outputs": [],
   "source": [
    "from keras.preprocessing.image import ImageDataGenerator"
   ]
  },
  {
   "cell_type": "code",
   "execution_count": 25,
   "metadata": {},
   "outputs": [
    {
     "name": "stdout",
     "output_type": "stream",
     "text": [
      "Found 6475 images belonging to 5 classes.\n"
     ]
    }
   ],
   "source": [
    "train_data=ImageDataGenerator(preprocessing_function=tf.keras.applications.vgg16.preprocess_input,rescale=1/255).flow_from_directory(training_path,target_size=(224,224),shuffle=True,classes=labels,batch_size=6475)"
   ]
  },
  {
   "cell_type": "code",
   "execution_count": 26,
   "metadata": {},
   "outputs": [],
   "source": [
    "x,y=train_data.next()"
   ]
  },
  {
   "cell_type": "code",
   "execution_count": 27,
   "metadata": {},
   "outputs": [
    {
     "data": {
      "text/plain": [
       "(6475, 224, 224, 3)"
      ]
     },
     "execution_count": 27,
     "metadata": {},
     "output_type": "execute_result"
    }
   ],
   "source": [
    "x.shape"
   ]
  },
  {
   "cell_type": "code",
   "execution_count": 28,
   "metadata": {},
   "outputs": [
    {
     "data": {
      "text/plain": [
       "(6475, 5)"
      ]
     },
     "execution_count": 28,
     "metadata": {},
     "output_type": "execute_result"
    }
   ],
   "source": [
    "y.shape"
   ]
  },
  {
   "cell_type": "code",
   "execution_count": 31,
   "metadata": {},
   "outputs": [
    {
     "name": "stdout",
     "output_type": "stream",
     "text": [
      "Found 894 images belonging to 5 classes.\n"
     ]
    }
   ],
   "source": [
    "dev_data=ImageDataGenerator(preprocessing_function=tf.keras.applications.vgg16.preprocess_input,rescale=1/255).flow_from_directory(Dev_path,target_size=(224,224),shuffle=True,classes=labels,batch_size=894)"
   ]
  },
  {
   "cell_type": "code",
   "execution_count": 32,
   "metadata": {},
   "outputs": [],
   "source": [
    "x_dev,y_dev=dev_data.next()"
   ]
  },
  {
   "cell_type": "code",
   "execution_count": 39,
   "metadata": {},
   "outputs": [
    {
     "name": "stdout",
     "output_type": "stream",
     "text": [
      "Found 289 images belonging to 5 classes.\n"
     ]
    }
   ],
   "source": [
    "test_data=ImageDataGenerator(preprocessing_function=tf.keras.applications.vgg16.preprocess_input,rescale=1/255).flow_from_directory(test_path,target_size=(224,224),shuffle=False,classes=labels,batch_size=289)"
   ]
  },
  {
   "cell_type": "code",
   "execution_count": 40,
   "metadata": {},
   "outputs": [],
   "source": [
    "x_test,y_test=test_data.next()"
   ]
  },
  {
   "cell_type": "code",
   "execution_count": 42,
   "metadata": {},
   "outputs": [
    {
     "data": {
      "text/plain": [
       "(289, 224, 224, 3)"
      ]
     },
     "execution_count": 42,
     "metadata": {},
     "output_type": "execute_result"
    }
   ],
   "source": [
    "x_test.shape"
   ]
  },
  {
   "cell_type": "code",
   "execution_count": 43,
   "metadata": {},
   "outputs": [],
   "source": [
    "import pickle\n",
    "pickle_train_data_flower=open(\"training_5flowerdata.pickle\",\"wb\")\n",
    "pickle.dump(x,pickle_train_data_flower)\n",
    "pickle_train_data_flower.close()\n",
    "pickle_ytrain_data_label=open(\"training_5flower_label.pickle\",\"wb\")\n",
    "pickle.dump(y,pickle_ytrain_data_label)\n",
    "pickle_ytrain_data_label.close()"
   ]
  },
  {
   "cell_type": "code",
   "execution_count": 55,
   "metadata": {},
   "outputs": [],
   "source": [
    "pickle_test_data_flower=open(\"test_5flowerdata.pickle\",\"wb\")\n",
    "pickle.dump(x_test,pickle_test_data_flower)\n",
    "pickle_test_data_flower.close()\n",
    "pickle_ytest_data_label=open(\"test_5flowerlabel.pickle\",\"wb\")\n",
    "pickle.dump(y_test,pickle_ytest_data_label)\n",
    "pickle_ytest_data_label.close()"
   ]
  },
  {
   "cell_type": "code",
   "execution_count": 45,
   "metadata": {},
   "outputs": [],
   "source": [
    "pickle_dev_data_flower=open(\"Dev_5flowerdata.pickle\",\"wb\")\n",
    "pickle.dump(x_dev,pickle_dev_data_flower)\n",
    "pickle_dev_data_flower.close()\n",
    "pickle_ydev_data_label=open(\"Dev_5flower_label.pickle\",\"wb\")\n",
    "pickle.dump(y_dev,pickle_ydev_data_label)\n",
    "pickle_ydev_data_label.close()"
   ]
  },
  {
   "cell_type": "markdown",
   "metadata": {},
   "source": [
    "# Load Data"
   ]
  },
  {
   "cell_type": "code",
   "execution_count": 47,
   "metadata": {},
   "outputs": [],
   "source": [
    "read_train=open(\"training_5flowerdata.pickle\",\"rb\")\n",
    "load_x_train=pickle.load(read_train)\n",
    "read_train_label=open(\"training_5flower_label.pickle\",\"rb\")\n",
    "load_y_train=pickle.load(read_train_label)"
   ]
  },
  {
   "cell_type": "code",
   "execution_count": 50,
   "metadata": {},
   "outputs": [
    {
     "name": "stdout",
     "output_type": "stream",
     "text": [
      "(6475, 224, 224, 3)\n",
      "(6475, 5)\n"
     ]
    }
   ],
   "source": [
    "print(load_x_train.shape)\n",
    "print(load_y_train.shape)"
   ]
  },
  {
   "cell_type": "code",
   "execution_count": 51,
   "metadata": {},
   "outputs": [],
   "source": [
    "read_val=open(\"Dev_5flowerdata.pickle\",\"rb\")\n",
    "load_x_val=pickle.load(read_val)\n",
    "read_val_label=open(\"Dev_5flower_label.pickle\",\"rb\")\n",
    "load_y_val=pickle.load(read_val_label)"
   ]
  },
  {
   "cell_type": "code",
   "execution_count": 54,
   "metadata": {},
   "outputs": [
    {
     "name": "stdout",
     "output_type": "stream",
     "text": [
      "(894, 224, 224, 3)\n",
      "(894, 5)\n"
     ]
    }
   ],
   "source": [
    "print(load_x_val.shape)\n",
    "print(load_y_val.shape)"
   ]
  },
  {
   "cell_type": "code",
   "execution_count": 56,
   "metadata": {},
   "outputs": [],
   "source": [
    "read_test=open(\"test_5flowerdata.pickle\",\"rb\")\n",
    "load_x_test=pickle.load(read_test)\n",
    "read_test_label=open(\"test_5flowerlabel.pickle\",\"rb\")\n",
    "load_y_test=pickle.load(read_test_label)"
   ]
  },
  {
   "cell_type": "code",
   "execution_count": 58,
   "metadata": {},
   "outputs": [
    {
     "data": {
      "text/plain": [
       "(289, 224, 224, 3)"
      ]
     },
     "execution_count": 58,
     "metadata": {},
     "output_type": "execute_result"
    }
   ],
   "source": [
    "load_x_test.shape"
   ]
  },
  {
   "cell_type": "code",
   "execution_count": 59,
   "metadata": {},
   "outputs": [
    {
     "data": {
      "text/plain": [
       "(289, 5)"
      ]
     },
     "execution_count": 59,
     "metadata": {},
     "output_type": "execute_result"
    }
   ],
   "source": [
    "load_y_test.shape"
   ]
  },
  {
   "cell_type": "code",
   "execution_count": null,
   "metadata": {},
   "outputs": [],
   "source": []
  },
  {
   "cell_type": "code",
   "execution_count": null,
   "metadata": {},
   "outputs": [],
   "source": []
  },
  {
   "cell_type": "code",
   "execution_count": null,
   "metadata": {},
   "outputs": [],
   "source": []
  },
  {
   "cell_type": "code",
   "execution_count": null,
   "metadata": {},
   "outputs": [],
   "source": []
  },
  {
   "cell_type": "code",
   "execution_count": null,
   "metadata": {},
   "outputs": [],
   "source": []
  },
  {
   "cell_type": "code",
   "execution_count": null,
   "metadata": {},
   "outputs": [],
   "source": []
  },
  {
   "cell_type": "code",
   "execution_count": null,
   "metadata": {},
   "outputs": [],
   "source": []
  },
  {
   "cell_type": "code",
   "execution_count": null,
   "metadata": {},
   "outputs": [],
   "source": []
  },
  {
   "cell_type": "code",
   "execution_count": null,
   "metadata": {},
   "outputs": [],
   "source": []
  },
  {
   "cell_type": "code",
   "execution_count": null,
   "metadata": {},
   "outputs": [],
   "source": []
  }
 ],
 "metadata": {
  "kernelspec": {
   "display_name": "Python 3",
   "language": "python",
   "name": "python3"
  },
  "language_info": {
   "codemirror_mode": {
    "name": "ipython",
    "version": 3
   },
   "file_extension": ".py",
   "mimetype": "text/x-python",
   "name": "python",
   "nbconvert_exporter": "python",
   "pygments_lexer": "ipython3",
   "version": "3.8.5"
  }
 },
 "nbformat": 4,
 "nbformat_minor": 4
}
